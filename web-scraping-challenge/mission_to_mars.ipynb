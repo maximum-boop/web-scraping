{
 "cells": [
  {
   "cell_type": "markdown",
   "id": "863004e4",
   "metadata": {},
   "source": [
    "# Web Scraping with Beautiful Soup"
   ]
  },
  {
   "cell_type": "code",
   "execution_count": 5,
   "id": "b6dbd87c",
   "metadata": {},
   "outputs": [],
   "source": [
    "# Import Splinter, BeautifulSoup, and Pandas\n",
    "from splinter import Browser\n",
    "from bs4 import BeautifulSoup as bs\n",
    "import pandas as pd\n",
    "from webdriver_manager.chrome import ChromeDriverManager"
   ]
  },
  {
   "cell_type": "code",
   "execution_count": 2,
   "id": "1ad87255",
   "metadata": {},
   "outputs": [
    {
     "name": "stderr",
     "output_type": "stream",
     "text": [
      "\n",
      "\n",
      "====== WebDriver manager ======\n",
      "Current google-chrome version is 94.0.4606\n",
      "Get LATEST driver version for 94.0.4606\n",
      "Get LATEST driver version for 94.0.4606\n",
      "Trying to download new driver from https://chromedriver.storage.googleapis.com/94.0.4606.61/chromedriver_win32.zip\n",
      "Driver has been saved in cache [C:\\Users\\User\\.wdm\\drivers\\chromedriver\\win32\\94.0.4606.61]\n"
     ]
    }
   ],
   "source": [
    "# Set up Splinter\n",
    "executable_path = {'executable_path': ChromeDriverManager().install()}\n",
    "browser = Browser('chrome', **executable_path, headless=False)"
   ]
  },
  {
   "cell_type": "code",
   "execution_count": 3,
   "id": "1a173175",
   "metadata": {},
   "outputs": [],
   "source": [
    "# Visit the Mars news site\n",
    "url = 'https://redplanetscience.com/'\n",
    "browser.visit(url)"
   ]
  },
  {
   "cell_type": "code",
   "execution_count": 6,
   "id": "da78ab3b",
   "metadata": {},
   "outputs": [],
   "source": [
    "# Convert the browser html to a soup object\n",
    "html = browser.html\n",
    "soup = bs(html, 'html.parser')"
   ]
  },
  {
   "cell_type": "code",
   "execution_count": 9,
   "id": "943b02d7",
   "metadata": {},
   "outputs": [
    {
     "data": {
      "text/plain": [
       "\"While Stargazing on Mars, NASA's Curiosity Rover Spots Earth and Venus\""
      ]
     },
     "execution_count": 9,
     "metadata": {},
     "output_type": "execute_result"
    }
   ],
   "source": [
    "news_title = soup.find('div', class_='content_title').get_text()\n",
    "news_title"
   ]
  },
  {
   "cell_type": "code",
   "execution_count": 10,
   "id": "5536ce7f",
   "metadata": {},
   "outputs": [
    {
     "data": {
      "text/plain": [
       "\"This new portrait of the Red Planet's neighbors was taken during a time when there's more dust in the air on Mars.\""
      ]
     },
     "execution_count": 10,
     "metadata": {},
     "output_type": "execute_result"
    }
   ],
   "source": [
    "news_p = soup.find('div', class_='article_teaser_body').get_text()\n",
    "news_p"
   ]
  },
  {
   "cell_type": "markdown",
   "id": "f763fb95",
   "metadata": {},
   "source": [
    "## JPL Mars Space images"
   ]
  },
  {
   "cell_type": "markdown",
   "id": "bba8e322",
   "metadata": {},
   "source": [
    "# Please note: I have tried both the chrome and firefox drivers inorder to use splinter but having challenges with my computer. Therefore had to visit the image url and copy link and concatenate with base url"
   ]
  },
  {
   "cell_type": "code",
   "execution_count": 61,
   "id": "08cb349f",
   "metadata": {},
   "outputs": [],
   "source": [
    "base_url = 'https://spaceimages-mars.com'"
   ]
  },
  {
   "cell_type": "code",
   "execution_count": 76,
   "id": "e892af3f",
   "metadata": {},
   "outputs": [
    {
     "data": {
      "text/plain": [
       "'https://spaceimages-mars.com/image/featured/mars1.jpg'"
      ]
     },
     "execution_count": 76,
     "metadata": {},
     "output_type": "execute_result"
    }
   ],
   "source": [
    "img_url = 'https://spaceimages-mars.com/' + 'image/featured/mars1.jpg'\n",
    "img_url"
   ]
  },
  {
   "cell_type": "code",
   "execution_count": 71,
   "id": "34d78d76",
   "metadata": {},
   "outputs": [
    {
     "data": {
      "text/plain": [
       "<Response [200]>"
      ]
     },
     "execution_count": 71,
     "metadata": {},
     "output_type": "execute_result"
    }
   ],
   "source": [
    "r = requests.get(url)\n",
    "r"
   ]
  },
  {
   "cell_type": "markdown",
   "id": "9d422795",
   "metadata": {},
   "source": [
    "# Mars Facts"
   ]
  },
  {
   "cell_type": "code",
   "execution_count": 19,
   "id": "72ac0857",
   "metadata": {},
   "outputs": [],
   "source": [
    "# Dependencies\n",
    "import pandas as pd"
   ]
  },
  {
   "cell_type": "code",
   "execution_count": 48,
   "id": "df2936dd",
   "metadata": {
    "scrolled": true
   },
   "outputs": [
    {
     "data": {
      "text/html": [
       "<div>\n",
       "<style scoped>\n",
       "    .dataframe tbody tr th:only-of-type {\n",
       "        vertical-align: middle;\n",
       "    }\n",
       "\n",
       "    .dataframe tbody tr th {\n",
       "        vertical-align: top;\n",
       "    }\n",
       "\n",
       "    .dataframe thead th {\n",
       "        text-align: right;\n",
       "    }\n",
       "</style>\n",
       "<table border=\"1\" class=\"dataframe\">\n",
       "  <thead>\n",
       "    <tr style=\"text-align: right;\">\n",
       "      <th></th>\n",
       "      <th>Description</th>\n",
       "      <th>Mars</th>\n",
       "      <th>Earth</th>\n",
       "    </tr>\n",
       "  </thead>\n",
       "  <tbody>\n",
       "    <tr>\n",
       "      <th>0</th>\n",
       "      <td>Mars - Earth Comparison</td>\n",
       "      <td>Mars</td>\n",
       "      <td>Earth</td>\n",
       "    </tr>\n",
       "    <tr>\n",
       "      <th>1</th>\n",
       "      <td>Diameter:</td>\n",
       "      <td>6,779 km</td>\n",
       "      <td>12,742 km</td>\n",
       "    </tr>\n",
       "    <tr>\n",
       "      <th>2</th>\n",
       "      <td>Mass:</td>\n",
       "      <td>6.39 × 10^23 kg</td>\n",
       "      <td>5.97 × 10^24 kg</td>\n",
       "    </tr>\n",
       "    <tr>\n",
       "      <th>3</th>\n",
       "      <td>Moons:</td>\n",
       "      <td>2</td>\n",
       "      <td>1</td>\n",
       "    </tr>\n",
       "    <tr>\n",
       "      <th>4</th>\n",
       "      <td>Distance from Sun:</td>\n",
       "      <td>227,943,824 km</td>\n",
       "      <td>149,598,262 km</td>\n",
       "    </tr>\n",
       "    <tr>\n",
       "      <th>5</th>\n",
       "      <td>Length of Year:</td>\n",
       "      <td>687 Earth days</td>\n",
       "      <td>365.24 days</td>\n",
       "    </tr>\n",
       "    <tr>\n",
       "      <th>6</th>\n",
       "      <td>Temperature:</td>\n",
       "      <td>-87 to -5 °C</td>\n",
       "      <td>-88 to 58°C</td>\n",
       "    </tr>\n",
       "  </tbody>\n",
       "</table>\n",
       "</div>"
      ],
      "text/plain": [
       "               Description             Mars            Earth\n",
       "0  Mars - Earth Comparison             Mars            Earth\n",
       "1                Diameter:         6,779 km        12,742 km\n",
       "2                    Mass:  6.39 × 10^23 kg  5.97 × 10^24 kg\n",
       "3                   Moons:                2                1\n",
       "4       Distance from Sun:   227,943,824 km   149,598,262 km\n",
       "5          Length of Year:   687 Earth days      365.24 days\n",
       "6             Temperature:     -87 to -5 °C      -88 to 58°C"
      ]
     },
     "execution_count": 48,
     "metadata": {},
     "output_type": "execute_result"
    }
   ],
   "source": [
    "url = 'https://galaxyfacts-mars.com'\n",
    "facts_table = pd.read_html(url)\n",
    "facts_df = facts_table[0]\n",
    "mars_facts_df = facts_df.rename(columns = {0:\"Description\", 1:\"Mars\", 2:\"Earth\"})\n",
    "mars_facts_df"
   ]
  },
  {
   "cell_type": "code",
   "execution_count": 51,
   "id": "b305ae98",
   "metadata": {
    "scrolled": true
   },
   "outputs": [
    {
     "data": {
      "text/html": [
       "<div>\n",
       "<style scoped>\n",
       "    .dataframe tbody tr th:only-of-type {\n",
       "        vertical-align: middle;\n",
       "    }\n",
       "\n",
       "    .dataframe tbody tr th {\n",
       "        vertical-align: top;\n",
       "    }\n",
       "\n",
       "    .dataframe thead th {\n",
       "        text-align: right;\n",
       "    }\n",
       "</style>\n",
       "<table border=\"1\" class=\"dataframe\">\n",
       "  <thead>\n",
       "    <tr style=\"text-align: right;\">\n",
       "      <th></th>\n",
       "      <th>Mars</th>\n",
       "      <th>Earth</th>\n",
       "    </tr>\n",
       "    <tr>\n",
       "      <th>Description</th>\n",
       "      <th></th>\n",
       "      <th></th>\n",
       "    </tr>\n",
       "  </thead>\n",
       "  <tbody>\n",
       "    <tr>\n",
       "      <th>Mars - Earth Comparison</th>\n",
       "      <td>Mars</td>\n",
       "      <td>Earth</td>\n",
       "    </tr>\n",
       "    <tr>\n",
       "      <th>Diameter:</th>\n",
       "      <td>6,779 km</td>\n",
       "      <td>12,742 km</td>\n",
       "    </tr>\n",
       "    <tr>\n",
       "      <th>Mass:</th>\n",
       "      <td>6.39 × 10^23 kg</td>\n",
       "      <td>5.97 × 10^24 kg</td>\n",
       "    </tr>\n",
       "    <tr>\n",
       "      <th>Moons:</th>\n",
       "      <td>2</td>\n",
       "      <td>1</td>\n",
       "    </tr>\n",
       "    <tr>\n",
       "      <th>Distance from Sun:</th>\n",
       "      <td>227,943,824 km</td>\n",
       "      <td>149,598,262 km</td>\n",
       "    </tr>\n",
       "    <tr>\n",
       "      <th>Length of Year:</th>\n",
       "      <td>687 Earth days</td>\n",
       "      <td>365.24 days</td>\n",
       "    </tr>\n",
       "    <tr>\n",
       "      <th>Temperature:</th>\n",
       "      <td>-87 to -5 °C</td>\n",
       "      <td>-88 to 58°C</td>\n",
       "    </tr>\n",
       "  </tbody>\n",
       "</table>\n",
       "</div>"
      ],
      "text/plain": [
       "                                    Mars            Earth\n",
       "Description                                              \n",
       "Mars - Earth Comparison             Mars            Earth\n",
       "Diameter:                       6,779 km        12,742 km\n",
       "Mass:                    6.39 × 10^23 kg  5.97 × 10^24 kg\n",
       "Moons:                                 2                1\n",
       "Distance from Sun:        227,943,824 km   149,598,262 km\n",
       "Length of Year:           687 Earth days      365.24 days\n",
       "Temperature:                -87 to -5 °C      -88 to 58°C"
      ]
     },
     "execution_count": 51,
     "metadata": {},
     "output_type": "execute_result"
    }
   ],
   "source": [
    "mars_facts_df.columns=['Description', 'Mars', 'Earth']\n",
    "mars_facts_df.set_index('Description')\n"
   ]
  },
  {
   "cell_type": "code",
   "execution_count": 53,
   "id": "2c4a8e55",
   "metadata": {},
   "outputs": [],
   "source": [
    "#convert to html file \n",
    "mars_facts_df.to_html('Mars_Fact.html')"
   ]
  },
  {
   "cell_type": "markdown",
   "id": "53a3f682",
   "metadata": {},
   "source": [
    "# Mars Hemispheres"
   ]
  },
  {
   "cell_type": "code",
   "execution_count": 25,
   "id": "89b85f0e",
   "metadata": {},
   "outputs": [],
   "source": [
    "base_url = 'https://marshemispheres.com'"
   ]
  },
  {
   "cell_type": "code",
   "execution_count": 39,
   "id": "8700170b",
   "metadata": {
    "scrolled": true
   },
   "outputs": [
    {
     "name": "stdout",
     "output_type": "stream",
     "text": [
      "https://marshemispheres.com/images/schiaparelli_enhanced-full.jpg\n",
      "https://marshemispheres.com/images/schiaparelli_enhanced-full.jpg\n",
      "https://marshemispheres.com/images/syrtis_major_enhanced-full.jpg\n",
      "https://marshemispheres.com/images/valles_marineris_enhanced-full.jpg\n"
     ]
    }
   ],
   "source": [
    "# Visit images url and concatenate with base url\n",
    "# This is achieved by following the link to the image and copying the full image source\n",
    "url1 = base_url + '/images/schiaparelli_enhanced-full.jpg'\n",
    "url2 = base_url + '/images/schiaparelli_enhanced-full.jpg'\n",
    "url3 = base_url + '/images/syrtis_major_enhanced-full.jpg'\n",
    "url4 = base_url + '/images/valles_marineris_enhanced-full.jpg'\n",
    "print(url1)\n",
    "print(url2)\n",
    "print(url3)\n",
    "print(url4)"
   ]
  },
  {
   "cell_type": "code",
   "execution_count": 40,
   "id": "8b1869d0",
   "metadata": {},
   "outputs": [],
   "source": [
    "# Manually create a dictionary for the title and image url\n",
    "hemisphere_image_urls = [\n",
    "    {\"title\":\"Cerberus Hemispheres\", \"img_url\":\"https://marshemispheres.com/images/full.jpg\"},\n",
    "    {\"title\":\"schiaparelli Hemispheres\",\"img_url\":\"https://marshemispheres.com/images/schiaparelli_enhanced-full.jpg\"},\n",
    "    {\"title\":\"syrtis Hemispheres\",\"img_url\":\"https://marshemispheres.com/images/syrtis_major_enhanced-full.jpg\"},\n",
    "    {\"title\":\"valles Hemispheres\",\"img_url\":\"https://marshemispheres.com/images/valles_marineris_enhanced-full.jpg\"}\n",
    "]"
   ]
  },
  {
   "cell_type": "code",
   "execution_count": 41,
   "id": "fac6d72f",
   "metadata": {},
   "outputs": [
    {
     "name": "stdout",
     "output_type": "stream",
     "text": [
      "Cerberus Hemispheres\n",
      "https://marshemispheres.com/images/full.jpg\n",
      "\n",
      "schiaparelli Hemispheres\n",
      "https://marshemispheres.com/images/schiaparelli_enhanced-full.jpg\n",
      "\n",
      "syrtis Hemispheres\n",
      "https://marshemispheres.com/images/syrtis_major_enhanced-full.jpg\n",
      "\n",
      "valles Hemispheres\n",
      "https://marshemispheres.com/images/valles_marineris_enhanced-full.jpg\n",
      "\n"
     ]
    }
   ],
   "source": [
    "for i in range(len(hemisphere_image_urls)):\n",
    "    print(hemisphere_image_urls[i]['title'])\n",
    "    print(hemisphere_image_urls[i]['img_url'] + '\\n')"
   ]
  },
  {
   "cell_type": "code",
   "execution_count": 46,
   "id": "9e3a0f66",
   "metadata": {},
   "outputs": [
    {
     "data": {
      "text/plain": [
       "[{'title': 'Cerberus Hemispheres',\n",
       "  'img_url': 'https://marshemispheres.com/images/full.jpg'},\n",
       " {'title': 'schiaparelli Hemispheres',\n",
       "  'img_url': 'https://marshemispheres.com/images/schiaparelli_enhanced-full.jpg'},\n",
       " {'title': 'syrtis Hemispheres',\n",
       "  'img_url': 'https://marshemispheres.com/images/syrtis_major_enhanced-full.jpg'},\n",
       " {'title': 'valles Hemispheres',\n",
       "  'img_url': 'https://marshemispheres.com/images/valles_marineris_enhanced-full.jpg'}]"
      ]
     },
     "execution_count": 46,
     "metadata": {},
     "output_type": "execute_result"
    }
   ],
   "source": [
    "# Python Dictionary\n",
    "hemisphere_image_urls"
   ]
  },
  {
   "cell_type": "code",
   "execution_count": 43,
   "id": "4f3e7e85",
   "metadata": {},
   "outputs": [],
   "source": [
    "browser.quit()"
   ]
  },
  {
   "cell_type": "code",
   "execution_count": null,
   "id": "058ae15b",
   "metadata": {},
   "outputs": [],
   "source": []
  }
 ],
 "metadata": {
  "kernelspec": {
   "display_name": "Python 3",
   "language": "python",
   "name": "python3"
  },
  "language_info": {
   "codemirror_mode": {
    "name": "ipython",
    "version": 3
   },
   "file_extension": ".py",
   "mimetype": "text/x-python",
   "name": "python",
   "nbconvert_exporter": "python",
   "pygments_lexer": "ipython3",
   "version": "3.8.8"
  }
 },
 "nbformat": 4,
 "nbformat_minor": 5
}
